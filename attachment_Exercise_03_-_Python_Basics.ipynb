{
 "cells": [
  {
   "cell_type": "markdown",
   "metadata": {},
   "source": [
    "<img src=\"http://upxacademy.com/wp-content/uploads/2016/07/upx-logo-02-e1467712070244.png\">\n",
    "# UpX Academy - Python Basics\n",
    "## Exercise 03\n",
    "\n",
    "### If Statements\n",
    "\n",
    "#### Three is a Crowd\n",
    "- Make a list of names that includes at least four people.\n",
    "- Write an if test that prints a message about the room being crowded, if there are more than three people in your list.\n",
    "- Modify your list so that there are only two people in it. Use one of the methods for removing people from the list, don't just redefine the list.\n",
    "- Run your if test again. There should be no output this time, because there are less than three people in the list.\n",
    "- **Bonus:** Store your if test in a function called something like `crowd_test`.\n",
    "\n",
    "#### Three is a Crowd - Part 2\n",
    "- Save your program from *Three is a Crowd* under a new name.\n",
    "- Add an `else` statement to your if tests. If the `else` statement is run, have it print a message that the room is not very crowded.\n",
    "\n",
    "#### Six is a Mob\n",
    "- Save your program from *Three is a Crowd - Part 2* under a new name.\n",
    "- Add some names to your list, so that there are at least six people in the list.\n",
    "- Modify your tests so that\n",
    "    - If there are more than 5 people, a message is printed about there being a mob in the room.\n",
    "    - If there are 3-5 people, a message is printed about the room being crowded.\n",
    "    - If there are 1 or 2 people, a message is printed about the room not being crowded.\n",
    "    - If there are no people in the room, a message is printed abou the room being empty."
   ]
  },
  {
   "cell_type": "code",
   "execution_count": null,
   "metadata": {
    "collapsed": true
   },
   "outputs": [],
   "source": [
    "#YOUR CODE HERE"
   ]
  }
 ],
 "metadata": {
  "anaconda-cloud": {},
  "kernelspec": {
   "display_name": "Python 2",
   "language": "python",
   "name": "python2"
  },
  "language_info": {
   "codemirror_mode": {
    "name": "ipython",
    "version": 2
   },
   "file_extension": ".py",
   "mimetype": "text/x-python",
   "name": "python",
   "nbconvert_exporter": "python",
   "pygments_lexer": "ipython2",
   "version": "2.7.11"
  }
 },
 "nbformat": 4,
 "nbformat_minor": 0
}
