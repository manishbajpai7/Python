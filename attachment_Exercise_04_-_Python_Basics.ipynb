{
 "cells": [
  {
   "cell_type": "markdown",
   "metadata": {},
   "source": [
    "<img src=\"http://upxacademy.com/wp-content/uploads/2016/07/upx-logo-02-e1467712070244.png\">\n",
    "# Python Basics 02\n",
    "## Exercise 04\n",
    "\n",
    "### Introducing Functions\n",
    "\n",
    "#### Greeter\n",
    "- Write a function that takes in a person's name, and prints out a greeting.\n",
    "    - The greeting must be at least three lines, and the person's name must be in each line.\n",
    "- Use your function to greet at least three different people.\n",
    "- **Bonus:** Store your three people in a list, and call your function from a `for` loop.\n",
    "\n",
    "#### Full Names\n",
    "- Write a function that takes in a first name and a last name, and prints out a nicely formatted full name, in a sentence. Your sentence could be as simple as, \"Hello, *full\\_name*.\"\n",
    "- Call your function three times, with a different name each time.\n",
    "\n",
    "#### Addition Calculator\n",
    "- Write a function that takes in two numbers, and adds them together. Make your function print out a sentence showing the two numbers, and the result.\n",
    "- Call your function with three different sets of numbers.\n",
    "\n",
    "#### Return Calculator\n",
    "- Modify *Addition Calculator* so that your function returns the sum of the two numbers. The printing should happen outside of the function.\n"
   ]
  },
  {
   "cell_type": "code",
   "execution_count": null,
   "metadata": {
    "collapsed": true
   },
   "outputs": [],
   "source": [
    "#YOUR CODE HERE"
   ]
  }
 ],
 "metadata": {
  "anaconda-cloud": {},
  "kernelspec": {
   "display_name": "Python 2",
   "language": "python",
   "name": "python2"
  },
  "language_info": {
   "codemirror_mode": {
    "name": "ipython",
    "version": 2
   },
   "file_extension": ".py",
   "mimetype": "text/x-python",
   "name": "python",
   "nbconvert_exporter": "python",
   "pygments_lexer": "ipython2",
   "version": "2.7.11"
  }
 },
 "nbformat": 4,
 "nbformat_minor": 0
}
