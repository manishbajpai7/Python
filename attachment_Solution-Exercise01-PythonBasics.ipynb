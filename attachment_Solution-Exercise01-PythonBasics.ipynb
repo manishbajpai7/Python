{
 "cells": [
  {
   "cell_type": "markdown",
   "metadata": {},
   "source": [
    "<img src=\"http://upxacademy.com/wp-content/uploads/2016/07/upx-logo-02-e1467712070244.png\">\n",
    "# Python Basics\n",
    "## Exercise 01 Solution\n",
    "\n",
    "#### Variables\n",
    "\n",
    "###### Hello World - variable\n",
    "\n",
    "    Store your own version of the message \"Hello World\" in a variable, and print it.\n",
    "\n",
    "###### One Variable, Two Messages:\n",
    "\n",
    "    Store a message in a variable, and then print that message.\n",
    "    Store a new message in the same variable, and then print that new message.\n",
    "\n",
    "###### First Name Cases\n",
    "\n",
    "    Store your first name, in lowercase, in a variable.\n",
    "    Using that one variable, print your name in lowercase, Titlecase, and UPPERCASE.\n",
    "\n",
    "###### About This Person\n",
    "\n",
    "    Choose a person you look up to. Store their first and last names in separate variables.\n",
    "    Use concatenation to make a sentence about this person, and store that sentence in a variable.-\n",
    "    Print the sentence.\n",
    "\n",
    "###### Name Strip\n",
    "\n",
    "    Store your first name in a variable, but include at least two kinds of whitespace on each side of your name.\n",
    "    Print your name as it is stored.\n",
    "    Print your name with whitespace stripped from the left side, then from the right side, then from both sides.\n",
    "    \n",
    "\n"
   ]
  },
  {
   "cell_type": "code",
   "execution_count": 1,
   "metadata": {
    "collapsed": false
   },
   "outputs": [
    {
     "name": "stdout",
     "output_type": "stream",
     "text": [
      "Hello Python world!\n",
      "Python is my favorite language!\n",
      "abraham\n",
      "Abraham\n",
      "ABRAHAM\n",
      "abraham lincoln is the person I look up to.\n",
      " abraham  \n",
      "abraham  \n",
      " abraham\n",
      "abraham\n"
     ]
    }
   ],
   "source": [
    "#Solution\n",
    "\n",
    "message = \"Hello Python world!\"\n",
    "print(message)\n",
    "\n",
    "message = \"Python is my favorite language!\"\n",
    "print(message)\n",
    "\n",
    "#First Name Cases\n",
    "name = 'abraham'\n",
    "print(name.lower())\n",
    "print(name.title())\n",
    "print(name.upper())\n",
    "\n",
    "#About This Person\n",
    "fname = 'abraham'\n",
    "lname = 'lincoln'\n",
    "sentence = fname + \" \" + lname + \" \" + \"is the person I look up to.\"\n",
    "print (sentence)\n",
    "\n",
    "#Name Strip\n",
    "\n",
    "fname = \" abraham  \"\n",
    "print(fname)\n",
    "print(fname.lstrip())\n",
    "print(fname.rstrip())\n",
    "print(fname.strip())"
   ]
  }
 ],
 "metadata": {
  "anaconda-cloud": {},
  "kernelspec": {
   "display_name": "Python 3",
   "language": "python",
   "name": "python3"
  },
  "language_info": {
   "codemirror_mode": {
    "name": "ipython",
    "version": 3
   },
   "file_extension": ".py",
   "mimetype": "text/x-python",
   "name": "python",
   "nbconvert_exporter": "python",
   "pygments_lexer": "ipython3",
   "version": "3.6.0"
  }
 },
 "nbformat": 4,
 "nbformat_minor": 0
}
