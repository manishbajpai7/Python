{
 "cells": [
  {
   "cell_type": "markdown",
   "metadata": {},
   "source": [
    "<img src=\"http://upxacademy.com/wp-content/uploads/2016/07/upx-logo-02-e1467712070244.png\">\n",
    "# Python Basics\n",
    "## Exercise 02 - Solution\n",
    "\n",
    "### Lists\n",
    "\n",
    "#### First List\n",
    "- Store the values 'python', 'c', and 'java' in a list. Print each of these values out, using their position in the list.\n",
    "\n",
    "#### First Neat List\n",
    "- Store the values 'python', 'c', and 'java' in a list. Print a statement about each of these values, using their position in the list.\n",
    "- Your statement could simply be, 'A nice programming language is *value*.'\n"
   ]
  },
  {
   "cell_type": "code",
   "execution_count": 2,
   "metadata": {
    "collapsed": false
   },
   "outputs": [
    {
     "name": "stdout",
     "output_type": "stream",
     "text": [
      "python c java\n",
      "python is very easy to learn\n",
      "c is the first language I learnt\n",
      "java is a nice language to learn\n"
     ]
    }
   ],
   "source": [
    "#YOUR CODE HERE\n",
    "lang = ['python','c','java']\n",
    "print (lang[0],lang[1],lang[2])\n",
    "\n",
    "print (lang[0] + ' is very easy to learn')\n",
    "print (lang[1] + ' is the first language I learnt')\n",
    "print (lang[2]+ ' is a nice language to learn')"
   ]
  },
  {
   "cell_type": "markdown",
   "metadata": {},
   "source": [
    "#### Working List\n",
    "- Make a list that includes four careers, such as 'programmer' and 'truck driver'.\n",
    "- Use the *list.index()* function to find the index of one career in your list.\n",
    "- Use the *in* function to show that this career is in your list.\n",
    "- Use the *append()* function to add a new career to your list.\n",
    "- Use the *insert()* function to add a new career at the beginning of the list.\n",
    "- Use a loop to show all the careers in your list.\n",
    "\n",
    "#### Ordered Working List\n",
    "- Start with the list you created in *Working List*.\n",
    "- You are going to print out the list in a number of different orders.\n",
    "- Each time you print the list, use a for loop rather than printing the raw list.\n",
    "- Print a message each time telling us what order we should see the list in.\n",
    "    - Print the list in its original order.\n",
    "    - Print the list in alphabetical order.\n",
    "    - Print the list in reverse alphabetical order.\n",
    "    - Print the list in the reverse order from what it started.\n",
    "    - Permanently sort the list in alphabetical order, and then print it out.\n",
    "    - Permanently sort the list in reverse alphabetical order, and then print it out.\n",
    "\n",
    "#### Ordered Numbers\n",
    "- Make a list of 5 numbers, in a random order.\n",
    "- You are going to print out the list in a number of different orders.\n",
    "- Each time you print the list, use a for loop rather than printing the raw list.\n",
    "- Print a message each time telling us what order we should see the list in.\n",
    "    - Print the numbers in the original order.\n",
    "    - Print the numbers in increasing order.\n",
    "    - Print the numbers in decreasing order.\n",
    "    - Print the numbers in the reverse order from how they started.\n",
    "    - Permanently sort the numbers in increasing order, and then print them out.\n",
    "    - Permanently sort the numbers in descreasing order, and then print them out.\n",
    "\n",
    "#### List Lengths\n",
    "- Copy two or three of the lists you made from the previous exercises, or make up two or three new lists.\n",
    "- Print out a series of statements that tell us how long each list is."
   ]
  },
  {
   "cell_type": "code",
   "execution_count": 3,
   "metadata": {
    "collapsed": false
   },
   "outputs": [
    {
     "name": "stdout",
     "output_type": "stream",
     "text": [
      "3\n",
      "True\n",
      "ml engineer\n",
      "programmer\n",
      "truck driver\n",
      "graphics designer\n",
      "data scientist\n",
      "big data engineer\n",
      "\n",
      "List in original order\n",
      "ml engineer\n",
      "programmer\n",
      "truck driver\n",
      "graphics designer\n",
      "data scientist\n",
      "big data engineer\n",
      "\n",
      "List in alphabetical order\n",
      "big data engineer\n",
      "data scientist\n",
      "graphics designer\n",
      "ml engineer\n",
      "programmer\n",
      "truck driver\n",
      "\n",
      "List in reverse alphabetical order\n",
      "truck driver\n",
      "programmer\n",
      "ml engineer\n",
      "graphics designer\n",
      "data scientist\n",
      "big data engineer\n",
      "\n",
      "List in reverse order\n",
      "big data engineer\n",
      "data scientist\n",
      "graphics designer\n",
      "truck driver\n",
      "programmer\n",
      "ml engineer\n",
      "\n",
      "List in permanent alphabetical order\n",
      "big data engineer\n",
      "data scientist\n",
      "graphics designer\n",
      "ml engineer\n",
      "programmer\n",
      "truck driver\n",
      "\n",
      "List in permanent reverse alphabetical order\n",
      "truck driver\n",
      "programmer\n",
      "ml engineer\n",
      "graphics designer\n",
      "data scientist\n",
      "big data engineer\n",
      "\n",
      "List in original order\n",
      "34\n",
      "41\n",
      "2\n",
      "21\n",
      "25\n",
      "\n",
      "List in increasing order\n",
      "2\n",
      "21\n",
      "25\n",
      "34\n",
      "41\n",
      "\n",
      "List in decreasing order\n",
      "41\n",
      "34\n",
      "25\n",
      "21\n",
      "2\n",
      "\n",
      "List in reverse order\n",
      "25\n",
      "21\n",
      "2\n",
      "41\n",
      "34\n",
      "\n",
      "List in permanent increasing order\n",
      "2\n",
      "21\n",
      "25\n",
      "34\n",
      "41\n",
      "\n",
      "List in permanent decreasing order\n",
      "41\n",
      "34\n",
      "25\n",
      "21\n",
      "2\n"
     ]
    }
   ],
   "source": [
    "#YOUR CODE HERE\n",
    "workinglist = ['programmer','truck driver','graphics designer','data scientist']\n",
    "print (workinglist.index('data scientist'))\n",
    "print('data scientist' in workinglist)\n",
    "workinglist.append('big data engineer')\n",
    "workinglist.insert(0,'ml engineer')\n",
    "for occ in workinglist:\n",
    "    print (occ)\n",
    "    \n",
    "print('\\nList in original order')\n",
    "for occ in workinglist:\n",
    "    print (occ)\n",
    "    \n",
    "print('\\nList in alphabetical order')\n",
    "for occ in sorted(workinglist):\n",
    "    print (occ)\n",
    "    \n",
    "print('\\nList in reverse alphabetical order')\n",
    "for occ in sorted(workinglist,reverse=True):\n",
    "    print (occ)\n",
    "    \n",
    "print('\\nList in reverse order')\n",
    "workinglist.reverse()\n",
    "for occ in workinglist:\n",
    "    print (occ)\n",
    "    \n",
    "workinglist.reverse()\n",
    "print('\\nList in permanent alphabetical order')\n",
    "workinglist.sort()\n",
    "for occ in workinglist:\n",
    "    print (occ)\n",
    "    \n",
    "print('\\nList in permanent reverse alphabetical order')\n",
    "workinglist.sort(reverse = True)\n",
    "for occ in workinglist:\n",
    "    print (occ)\n",
    "    \n",
    "num = [34,41,2,21,25]\n",
    "\n",
    "print('\\nList in original order')\n",
    "for n in num:\n",
    "    print (n)\n",
    "    \n",
    "print('\\nList in increasing order')\n",
    "for n in sorted(num):\n",
    "    print (n)\n",
    "    \n",
    "print('\\nList in decreasing order')\n",
    "for n in sorted(num,reverse=True):\n",
    "    print (n)\n",
    "    \n",
    "print('\\nList in reverse order')\n",
    "num.reverse()\n",
    "for n in num:\n",
    "    print (n)\n",
    "    \n",
    "num.reverse()\n",
    "print('\\nList in permanent increasing order')\n",
    "num.sort()\n",
    "for n in num:\n",
    "    print (n)\n",
    "    \n",
    "print('\\nList in permanent decreasing order')\n",
    "num.sort(reverse = True)\n",
    "for n in num:\n",
    "    print (n)"
   ]
  },
  {
   "cell_type": "markdown",
   "metadata": {},
   "source": [
    "#### Famous People\n",
    "- Make a list that includes the names of four famous people.\n",
    "- Remove each person from the list, one at a time, using each of the four methods we have just seen:\n",
    "    - Pop the last item from the list, and pop any item except the last item.\n",
    "    - Remove one item by its position, and one item by its value.\n",
    "- Print out a message that there are no famous people left in your list, and print your list to prove that it is empty."
   ]
  },
  {
   "cell_type": "code",
   "execution_count": 4,
   "metadata": {
    "collapsed": false
   },
   "outputs": [
    {
     "name": "stdout",
     "output_type": "stream",
     "text": [
      "[]\n"
     ]
    }
   ],
   "source": [
    "#YOUR CODE HERE\n",
    "ppl = ['gandhi','nehru','shastri','patel']\n",
    "ppl.pop()\n",
    "ppl.pop(1)\n",
    "del ppl[0]\n",
    "ppl.remove('shastri')\n",
    "print (ppl)"
   ]
  },
  {
   "cell_type": "markdown",
   "metadata": {},
   "source": [
    "#### Alphabet Slices\n",
    "- Store the first ten letters of the alphabet in a list.\n",
    "- Use a slice to print out the first three letters of the alphabet.\n",
    "- Use a slice to print out any three letters from the middle of your list.\n",
    "- Use a slice to print out the letters from any point in the middle of your list, to the end.\n",
    "\n",
    "#### Protected List\n",
    "- Your goal in this exercise is to prove that copying a list protects the original list.\n",
    "- Make a list with three people's names in it.\n",
    "- Use a slice to make a copy of the entire list.\n",
    "- Add at least two new names to the new copy of the list.\n",
    "- Make a loop that prints out all of the names in the original list, along with a message that this is the original list.\n",
    "- Make a loop that prints out all of the names in the copied list, along with a message that this is the copied list."
   ]
  },
  {
   "cell_type": "code",
   "execution_count": 7,
   "metadata": {
    "collapsed": false
   },
   "outputs": [
    {
     "name": "stdout",
     "output_type": "stream",
     "text": [
      "['a', 'b', 'c']\n",
      "['c', 'd', 'e']\n",
      "['d', 'e', 'f', 'g', 'h', 'i', 'j']\n",
      "This is original list\n",
      "ram\n",
      "shyam\n",
      "ghanshyam\n",
      "\n",
      "This is the copied list\n",
      "ram\n",
      "shyam\n",
      "ghanshyam\n",
      "radhe\n",
      "krishna\n"
     ]
    }
   ],
   "source": [
    "#YOUR CODE HERE\n",
    "alpha = ['a','b','c','d','e','f','g','h','i','j']\n",
    "print (alpha[:3])\n",
    "print (alpha[2:5])\n",
    "print (alpha[3:])\n",
    "\n",
    "names = ['ram','shyam','ghanshyam']\n",
    "naam = names[:]\n",
    "naam.append('radhe')\n",
    "naam.append('krishna')\n",
    "print ('This is original list')\n",
    "for n in names:\n",
    "    print (n)\n",
    "print ('\\nThis is the copied list')\n",
    "for n in naam:\n",
    "    print (n)"
   ]
  },
  {
   "cell_type": "markdown",
   "metadata": {},
   "source": [
    "#### First Twenty\n",
    "- Use the *range()* function to store the first twenty numbers (1-20) in a list, and print them out.\n",
    "\n",
    "#### Five Wallets\n",
    "- Imagine five wallets with different amounts of cash in them. Store these five values in a list, and print out the following sentences:\n",
    "    - \"The fattest wallet has $ *value* in it.\"\n",
    "    - \"The skinniest wallet has $ *value* in it.\"\n",
    "    - \"All together, these wallets have $ *value* in them.\""
   ]
  },
  {
   "cell_type": "code",
   "execution_count": 8,
   "metadata": {
    "collapsed": false
   },
   "outputs": [
    {
     "name": "stdout",
     "output_type": "stream",
     "text": [
      "[1, 2, 3, 4, 5, 6, 7, 8, 9, 10, 11, 12, 13, 14, 15, 16, 17, 18, 19, 20]\n",
      "The fattest wallet has 25004 in it.\n",
      "The thinnest wallet has 2500 in it.\n",
      "All together, these wallets have 58307 in it.\n"
     ]
    }
   ],
   "source": [
    "#YOUR CODE HERE\n",
    "num = list(range(1,21))\n",
    "print (num)\n",
    "five_wallets = [2500,4300,11500,25004,15003]\n",
    "print ('The fattest wallet has ' + str(max(five_wallets))+' in it.')\n",
    "print ('The thinnest wallet has ' + str(min(five_wallets))+' in it.')\n",
    "print ('All together, these wallets have ' + str(sum(five_wallets))+' in it.')"
   ]
  },
  {
   "cell_type": "markdown",
   "metadata": {},
   "source": [
    "#### Multiples of Ten\n",
    "- Make a list of the first ten multiples of ten (10, 20, 30... 90, 100). There are a number of ways to do this, but try to do it using a list comprehension. Print out your list.\n",
    "\n",
    "#### Cubes\n",
    "- We saw how to make a list of the first ten squares. Make a list of the first ten cubes (1, 8, 27... 1000) using a list comprehension, and print them out.\n",
    "\n",
    "#### Awesomeness\n",
    "- Store five names in a list. Make a second list that adds the phrase \"is awesome!\" to each name, using a list comprehension. Print out the awesome version of the names.\n"
   ]
  },
  {
   "cell_type": "code",
   "execution_count": 9,
   "metadata": {
    "collapsed": false
   },
   "outputs": [
    {
     "name": "stdout",
     "output_type": "stream",
     "text": [
      "[10, 20, 30, 40, 50, 60, 70, 80, 90, 100]\n",
      "[1, 8, 27, 64, 125, 216, 343, 512, 729, 1000]\n",
      "['John is awesome!', 'Gary is awesome!', 'Michael is awesome!', 'Charles is awesome!', 'Chris is awesome!']\n"
     ]
    }
   ],
   "source": [
    "#YOUR CODE HERE\n",
    "ten = list(number*10 for number in range(1,11))\n",
    "print (ten)\n",
    "cubes = list(number**3 for number in range(1,11))\n",
    "print (cubes)\n",
    "names = ['john','gary','michael','charles','chris']\n",
    "awesome = list(name.title()+' is awesome!' for name in names)\n",
    "print (awesome)"
   ]
  },
  {
   "cell_type": "markdown",
   "metadata": {},
   "source": [
    "#### Listing a Sentence\n",
    "- Store a single sentence in a variable. Use a for loop to print each character from your sentence on a separate line.\n",
    "\n",
    "#### Sentence List\n",
    "- Store a single sentence in a variable. Create a list from your sentence. Print your raw list (don't use a loop, just print the list).\n",
    "\n",
    "#### Sentence Slices\n",
    "- Store a sentence in a variable. Using slices, print out the first five characters, any five consecutive characters from the middle of the sentence, and the last five characters of the sentence.\n",
    "\n",
    "#### Finding Python\n",
    "- Store a sentence in a variable, making sure you use the word *Python* at least twice in the sentence.\n",
    "- Use the *in* keyword to prove that the word *Python* is actually in the sentence.\n",
    "- Use the *find()* function to show where the word *Python* first appears in the sentence.\n",
    "- Use the *rfind()* function to show the last place *Python* appears in the sentence.\n",
    "- Use the *count()* function to show how many times the word *Python* appears in your sentence.\n",
    "- Use the *split()* function to break your sentence into a list of words. Print the raw list, and use a loop to print each word on its own line.\n",
    "- Use the *replace()* function to change *Python* to *Ruby* in your sentence."
   ]
  },
  {
   "cell_type": "code",
   "execution_count": 11,
   "metadata": {
    "collapsed": false
   },
   "outputs": [
    {
     "name": "stdout",
     "output_type": "stream",
     "text": [
      "T\n",
      "h\n",
      "i\n",
      "s\n",
      " \n",
      "i\n",
      "s\n",
      " \n",
      "a\n",
      " \n",
      "s\n",
      "e\n",
      "n\n",
      "t\n",
      "e\n",
      "n\n",
      "c\n",
      "e\n",
      "['T', 'h', 'i', 's', ' ', 'i', 's', ' ', 'a', ' ', 's', 'e', 'n', 't', 'e', 'n', 'c', 'e']\n",
      "This \n",
      "is is\n",
      "tence\n",
      "True\n",
      "22\n",
      "77\n",
      "3\n",
      "['Hello,', 'This', 'is', 'a', 'cool', 'Python', 'exercise.', \"I'm\", 'getting', 'more', 'confident', 'in', 'Python.', 'Python', 'is', 'very', 'easy', 'to', 'learn.']\n",
      "Hello, This is a cool Ruby exercise. I'm getting more confident in Ruby. Ruby is very easy to learn.\n"
     ]
    }
   ],
   "source": [
    "#YOUR CODE HERE\n",
    "strr = \"This is a sentence\"\n",
    "for letter in strr:\n",
    "    print (letter)\n",
    "strlist = list(strr)\n",
    "print (strlist)\n",
    "print (strr[:5])\n",
    "print (strr[2:7])\n",
    "print (strr[-5:])\n",
    "\n",
    "pstr = \"Hello, This is a cool Python exercise. I'm getting more confident in Python. Python is very easy to learn.\"\n",
    "print ('Python' in pstr)\n",
    "print (pstr.find('Python'))\n",
    "print (pstr.rfind('Python'))\n",
    "print (pstr.count('Python'))\n",
    "raw = list(word for word in pstr.split())\n",
    "print (raw)\n",
    "pstr = pstr.replace('Python','Ruby')\n",
    "print (pstr)"
   ]
  }
 ],
 "metadata": {
  "anaconda-cloud": {},
  "kernelspec": {
   "display_name": "Python 3",
   "language": "python",
   "name": "python3"
  },
  "language_info": {
   "codemirror_mode": {
    "name": "ipython",
    "version": 3
   },
   "file_extension": ".py",
   "mimetype": "text/x-python",
   "name": "python",
   "nbconvert_exporter": "python",
   "pygments_lexer": "ipython3",
   "version": "3.6.0"
  }
 },
 "nbformat": 4,
 "nbformat_minor": 0
}
