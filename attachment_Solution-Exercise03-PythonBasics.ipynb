{
 "cells": [
  {
   "cell_type": "markdown",
   "metadata": {},
   "source": [
    "<img src=\"http://upxacademy.com/wp-content/uploads/2016/07/upx-logo-02-e1467712070244.png\">\n",
    "# Python Basics\n",
    "## Exercise 03 - Solution\n",
    "<a id=\"Exercises-elif\"></a>\n",
    "Exercises\n",
    "---\n",
    "#### Three is a Crowd\n",
    "- Make a list of names that includes at least four people.\n",
    "- Write an if test that prints a message about the room being crowded, if there are more than three people in your list.\n",
    "- Modify your list so that there are only two people in it. Use one of the methods for removing people from the list, don't just redefine the list.\n",
    "- Run your if test again. There should be no output this time, because there are less than three people in the list.\n",
    "- **Bonus:** Store your if test in a function called something like `crowd_test`.\n",
    "\n",
    "#### Three is a Crowd - Part 2\n",
    "- Save your program from *Three is a Crowd* under a new name.\n",
    "- Add an `else` statement to your if tests. If the `else` statement is run, have it print a message that the room is not very crowded.\n",
    "\n",
    "#### Six is a Mob\n",
    "- Save your program from *Three is a Crowd - Part 2* under a new name.\n",
    "- Add some names to your list, so that there are at least six people in the list.\n",
    "- Modify your tests so that\n",
    "    - If there are more than 5 people, a message is printed about there being a mob in the room.\n",
    "    - If there are 3-5 people, a message is printed about the room being crowded.\n",
    "    - If there are 1 or 2 people, a message is printed about the room not being crowded.\n",
    "    - If there are no people in the room, a message is printed abou the room being empty."
   ]
  },
  {
   "cell_type": "code",
   "execution_count": 1,
   "metadata": {
    "collapsed": false
   },
   "outputs": [
    {
     "name": "stdout",
     "output_type": "stream",
     "text": [
      "The room is crowded!\n"
     ]
    }
   ],
   "source": [
    "#three is a crowd\n",
    "\n",
    "names_list = ['Monica','John','Ross','Joey']\n",
    "\n",
    "if len(names_list) > 3:\n",
    "    print(\"The room is crowded!\")\n",
    "    \n",
    "del names_list[2:4]\n",
    "\n",
    "if len(names_list) > 3:\n",
    "    print(\"The room is crowded!\")\n"
   ]
  },
  {
   "cell_type": "code",
   "execution_count": 2,
   "metadata": {
    "collapsed": false
   },
   "outputs": [
    {
     "name": "stdout",
     "output_type": "stream",
     "text": [
      "The room is crowded!\n"
     ]
    }
   ],
   "source": [
    "#bonus - three is a crowd\n",
    "names_list = ['Monica','John','Ross','Joey']\n",
    "\n",
    "def crowd_test(list_name):\n",
    "    if len(names_list) >3:\n",
    "        print (\"The room is crowded!\")\n",
    "    \n",
    "crowd_test(names_list)\n",
    "        "
   ]
  },
  {
   "cell_type": "code",
   "execution_count": 3,
   "metadata": {
    "collapsed": false
   },
   "outputs": [
    {
     "name": "stdout",
     "output_type": "stream",
     "text": [
      "The room is not very crowded\n"
     ]
    }
   ],
   "source": [
    "# Three is a crowd - part 2\n",
    "names_list = ['Monica','John','Ross','Joey']\n",
    "\n",
    "if len(names_list) < 3:\n",
    "    print(\"The room is crowded!\")\n",
    "    \n",
    "else:\n",
    "    print (\"The room is not very crowded\")\n",
    "del names_list[2:4]\n",
    "\n",
    "if len(names_list) > 3:\n",
    "    print(\"The room is crowded!\")"
   ]
  },
  {
   "cell_type": "code",
   "execution_count": 4,
   "metadata": {
    "collapsed": false
   },
   "outputs": [
    {
     "name": "stdout",
     "output_type": "stream",
     "text": [
      "There is a mob in the room!\n",
      "The room is crowded\n",
      "The room is not crowded\n",
      "The room is empty\n"
     ]
    }
   ],
   "source": [
    "#six is a mob\n",
    "names_list = ['Monica','John','Ross','Joey','Chandler','Phoebe']\n",
    "\n",
    "if len(names_list) > 5 :\n",
    "    print(\"There is a mob in the room!\")\n",
    "\n",
    "del names_list[4:5]\n",
    "\n",
    "if len(names_list) >=3  <= 5:\n",
    "    print(\"The room is crowded\")\n",
    "    \n",
    "del names_list[2:6]\n",
    "\n",
    "if len(names_list)>=1 <= 2:\n",
    "    print(\"The room is not crowded\")\n",
    "    \n",
    "del names_list[0:6]\n",
    "\n",
    "if len(names_list) ==0:\n",
    "    print(\"The room is empty\")"
   ]
  }
 ],
 "metadata": {
  "anaconda-cloud": {},
  "kernelspec": {
   "display_name": "Python 3",
   "language": "python",
   "name": "python3"
  },
  "language_info": {
   "codemirror_mode": {
    "name": "ipython",
    "version": 3
   },
   "file_extension": ".py",
   "mimetype": "text/x-python",
   "name": "python",
   "nbconvert_exporter": "python",
   "pygments_lexer": "ipython3",
   "version": "3.6.0"
  }
 },
 "nbformat": 4,
 "nbformat_minor": 0
}
