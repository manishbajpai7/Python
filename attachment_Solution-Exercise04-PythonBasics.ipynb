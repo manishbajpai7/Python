{
 "cells": [
  {
   "cell_type": "markdown",
   "metadata": {},
   "source": [
    "<img src=\"http://upxacademy.com/wp-content/uploads/2016/07/upx-logo-02-e1467712070244.png\">\n",
    "# Python Basics\n",
    "## Exercise 04 - Solution\n",
    "Exercises\n",
    "---\n",
    "#### Greeter\n",
    "- Write a function that takes in a person's name, and prints out a greeting.\n",
    "    - The greeting must be at least three lines, and the person's name must be in each line.\n",
    "- Use your function to greet at least three different people.\n",
    "- **Bonus:** Store your three people in a list, and call your function from a `for` loop.\n",
    "\n",
    "#### Full Names\n",
    "- Write a function that takes in a first name and a last name, and prints out a nicely formatted full name, in a sentence. Your sentence could be as simple as, \"Hello, *full\\_name*.\"\n",
    "- Call your function three times, with a different name each time.\n",
    "\n",
    "#### Addition Calculator\n",
    "- Write a function that takes in two numbers, and adds them together. Make your function print out a sentence showing the two numbers, and the result.\n",
    "- Call your function with three different sets of numbers.\n",
    "\n",
    "#### Return Calculator\n",
    "- Modify *Addition Calculator* so that your function returns the sum of the two numbers. The printing should happen outside of the function.\n",
    "\n"
   ]
  },
  {
   "cell_type": "code",
   "execution_count": 1,
   "metadata": {
    "collapsed": false
   },
   "outputs": [
    {
     "name": "stdout",
     "output_type": "stream",
     "text": [
      "Hello Adam!\n",
      "Wish you a great day ahead, Adam.\n",
      "Adam, how can I help you?\n",
      "Hello Usashi!\n",
      "Wish you a great day ahead, Usashi.\n",
      "Usashi, how can I help you?\n",
      "Hello John!\n",
      "Wish you a great day ahead, John.\n",
      "John, how can I help you?\n"
     ]
    }
   ],
   "source": [
    "#Greeter solution\n",
    "\n",
    "def greeter(person_name):\n",
    "    print(\"Hello %s!\" % person_name)\n",
    "    print(\"Wish you a great day ahead, %s.\" % person_name)\n",
    "    print(\"%s, how can I help you?\"% person_name )\n",
    "    \n",
    "greeter('Adam')\n",
    "greeter('Usashi')\n",
    "greeter('John')"
   ]
  },
  {
   "cell_type": "code",
   "execution_count": 2,
   "metadata": {
    "collapsed": false
   },
   "outputs": [
    {
     "name": "stdout",
     "output_type": "stream",
     "text": [
      "Hello Adam!\n",
      "Wish you a great day ahead, Adam.\n",
      "Adam, how can I help you?\n",
      "Hello Usashi!\n",
      "Wish you a great day ahead, Usashi.\n",
      "Usashi, how can I help you?\n",
      "Hello John!\n",
      "Wish you a great day ahead, John.\n",
      "John, how can I help you?\n"
     ]
    }
   ],
   "source": [
    "#greeter bonus solution\n",
    "\n",
    "names =['Adam','Usashi','John']\n",
    "\n",
    "def greeter(person_name):\n",
    "    print(\"Hello %s!\" % person_name)\n",
    "    print(\"Wish you a great day ahead, %s.\" % person_name)\n",
    "    print(\"%s, how can I help you?\"% person_name )\n",
    "    \n",
    "for name in names:\n",
    "    greeter(name)"
   ]
  },
  {
   "cell_type": "code",
   "execution_count": 3,
   "metadata": {
    "collapsed": false
   },
   "outputs": [
    {
     "name": "stdout",
     "output_type": "stream",
     "text": [
      "Hello Nigrah Bamb.\n",
      "Hello Vipul Tiwari.\n",
      "Hello Farha khan.\n"
     ]
    }
   ],
   "source": [
    "#Full names solution\n",
    "\n",
    "def full_name(first_name,second_name):\n",
    "    print(\"Hello %s %s.\" %(first_name,second_name))\n",
    "    \n",
    "full_name('Nigrah','Bamb')\n",
    "full_name('Vipul','Tiwari')\n",
    "full_name('Farha','khan')"
   ]
  },
  {
   "cell_type": "code",
   "execution_count": 4,
   "metadata": {
    "collapsed": false
   },
   "outputs": [
    {
     "name": "stdout",
     "output_type": "stream",
     "text": [
      "The addition of 3 and 5 is 8\n",
      "The addition of 2 and 7 is 9\n",
      "The addition of 1 and 5 is 6\n"
     ]
    }
   ],
   "source": [
    "#addition\n",
    "\n",
    "def addition(first_number,second_number):\n",
    "    result = first_number + second_number\n",
    "    print(\"The addition of %d and %d is %d\" %(first_number,second_number,result))\n",
    "    \n",
    "addition(3,5)\n",
    "addition(2,7)\n",
    "addition(1,5)\n"
   ]
  },
  {
   "cell_type": "code",
   "execution_count": 5,
   "metadata": {
    "collapsed": false
   },
   "outputs": [
    {
     "name": "stdout",
     "output_type": "stream",
     "text": [
      "the result of 3 and 5 is 8\n"
     ]
    }
   ],
   "source": [
    "#return calculator\n",
    "\n",
    "def addition(first_number,second_number):\n",
    "    result = first_number + second_number\n",
    "    return result\n",
    "   \n",
    "    \n",
    "result_variable=addition(3,5)\n",
    "print(\"the result of 3 and 5 is %d\" %result_variable)\n"
   ]
  }
 ],
 "metadata": {
  "anaconda-cloud": {},
  "kernelspec": {
   "display_name": "Python 3",
   "language": "python",
   "name": "python3"
  },
  "language_info": {
   "codemirror_mode": {
    "name": "ipython",
    "version": 3
   },
   "file_extension": ".py",
   "mimetype": "text/x-python",
   "name": "python",
   "nbconvert_exporter": "python",
   "pygments_lexer": "ipython3",
   "version": "3.6.0"
  }
 },
 "nbformat": 4,
 "nbformat_minor": 0
}
