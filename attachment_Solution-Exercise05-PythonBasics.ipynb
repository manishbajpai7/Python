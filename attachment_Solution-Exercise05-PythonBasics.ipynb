{
 "cells": [
  {
   "cell_type": "markdown",
   "metadata": {},
   "source": [
    "<img src=\"http://upxacademy.com/wp-content/uploads/2016/07/upx-logo-02-e1467712070244.png\">\n",
    "# UpX Academy - Python Basics\n",
    "## Exercise 05 - Solution\n"
   ]
  },
  {
   "cell_type": "markdown",
   "metadata": {},
   "source": [
    "### Question 1\n",
    "\n",
    "Given the following dictionary:"
   ]
  },
  {
   "cell_type": "code",
   "execution_count": 1,
   "metadata": {
    "collapsed": true
   },
   "outputs": [],
   "source": [
    "\n",
    "inventory = {\n",
    "    'gold' : 500,\n",
    "    'pouch' : ['flint', 'twine', 'gemstone'],\n",
    "    'backpack' : ['xylophone','dagger', 'bedroll','bread loaf']\n",
    "}"
   ]
  },
  {
   "cell_type": "markdown",
   "metadata": {},
   "source": [
    "Try to do the following:\n",
    "\n",
    "Add a key to inventory called 'pocket'.\n",
    "\n",
    "Set the value of 'pocket' to be a list consisting of the strings 'seashell', 'strange berry', and 'lint'.\n",
    "\n",
    "sort()the items in the list stored under the 'backpack' key.\n",
    "\n",
    "Then .remove('dagger') from the list of items stored under the 'backpack' key.\n",
    "\n",
    "Add 50 to the number stored under the 'gold' key."
   ]
  },
  {
   "cell_type": "code",
   "execution_count": 2,
   "metadata": {
    "collapsed": false
   },
   "outputs": [
    {
     "name": "stdout",
     "output_type": "stream",
     "text": [
      "{'gold': 550, 'pouch': ['flint', 'twine', 'gemstone'], 'backpack': ['bedroll', 'bread loaf', 'xylophone'], 'pocket': ['seashell', 'strange berry', 'lint']}\n"
     ]
    },
    {
     "data": {
      "text/plain": [
       "{'backpack': ['bedroll', 'bread loaf', 'xylophone'],\n",
       " 'gold': 550,\n",
       " 'pocket': ['seashell', 'strange berry', 'lint'],\n",
       " 'pouch': ['flint', 'twine', 'gemstone']}"
      ]
     },
     "execution_count": 2,
     "metadata": {},
     "output_type": "execute_result"
    }
   ],
   "source": [
    "#Your Code here\n",
    "inventory = {\n",
    "    'gold' : 500,\n",
    "    'pouch' : ['flint', 'twine', 'gemstone'],\n",
    "    'backpack' : ['xylophone','dagger', 'bedroll','bread loaf']\n",
    "}\n",
    "inventory['pocket']=['seashell', 'strange berry', 'lint']\n",
    "inventory['backpack'].sort()\n",
    "inventory['backpack'].remove('dagger')\n",
    "\n",
    "inventory['gold']=inventory['gold']+50\n",
    "print (inventory)\n",
    "{'pocket': ['seashell', 'strange berry', 'lint'], 'backpack': ['bedroll', 'bread loaf', 'xylophone'], 'pouch': ['flint', 'twine', 'gemstone'], 'gold': 550}\n"
   ]
  },
  {
   "cell_type": "markdown",
   "metadata": {},
   "source": [
    "### Question 2\n",
    "\n",
    "Folow the steps below:\n",
    "\n",
    "Create two new dictionaries called prices and stocks using {} format like the example above.\n",
    "\n",
    "Put these values in your prices dictionary:\n",
    "\n",
    "\"banana\": 4,\n",
    "\n",
    "\"apple\": 2,\n",
    "\n",
    "\"orange\": 1.5,\n",
    "\n",
    "\"pear\": 3\n",
    "\n",
    "Put these values in your stocks dictionary:\n",
    "\n",
    "\"banana\": 12,\n",
    "\n",
    "\"apple\": 24,\n",
    "\n",
    "\"orange\": 15,\n",
    "\n",
    "\"pear\": 35\n",
    "\n",
    "Loop through each key in prices.\n",
    "For each key, print out the key along with its price and stock information.\n",
    "Print the answer in the following format:\n",
    "\n",
    "apple\n",
    "\n",
    "price: 2\n",
    "\n",
    "stock: 0\n",
    "\n",
    "Let's determine how much money you would make if you sold all of your food.\n",
    "\n",
    "Create a variable called total and set it to zero.\n",
    "\n",
    "Loop through the prices dictionaries.For each key in prices, multiply the number in prices by the number in stock.\n",
    "\n",
    "Print that value into the console and then add it to total.\n",
    "\n",
    "Finally, outside your loop, print total."
   ]
  },
  {
   "cell_type": "code",
   "execution_count": 2,
   "metadata": {
    "collapsed": false
   },
   "outputs": [
    {
     "name": "stdout",
     "output_type": "stream",
     "text": [
      "orange\n",
      "price: 1.5\n",
      "stock: 32\n",
      "pear\n",
      "price: 3\n",
      "stock: 15\n",
      "banana\n",
      "price: 4\n",
      "stock: 6\n",
      "apple\n",
      "price: 2\n",
      "stock: 0\n",
      "48.0\n",
      "45\n",
      "24\n",
      "0\n",
      "The total money is 117.0\n"
     ]
    }
   ],
   "source": [
    "#Your Code here\n",
    "#Create the prices dictionary:\n",
    "prices={}\n",
    "#Add values\n",
    "prices[\"banana\"]=4\n",
    "prices[\"apple\"]= 2\n",
    "prices[\"orange\"]= 1.5\n",
    "prices[\"pear\"]= 3\n",
    "#Create the stock dictionary\n",
    "stock={}\n",
    "#Add values\n",
    "stock[\"banana\"]= 6\n",
    "stock[\"apple\"]= 0\n",
    "stock[\"orange\"] =32\n",
    "stock[\"pear\"]= 15\n",
    "#Show all prices and stock\n",
    "for food in prices:\n",
    "    print (food)\n",
    "    print (\"price: %s\" % prices[food])\n",
    "    print (\"stock: %s\" % stock[food])\n",
    "total=0\n",
    "for price in prices:\n",
    "    money= prices[price]*stock[price]\n",
    "    print money\n",
    "    total=total +money\n",
    "print \"The total money is\", total"
   ]
  },
  {
   "cell_type": "markdown",
   "metadata": {},
   "source": [
    "### Question 3\n",
    "\n",
    "Follow the steps:\n",
    "\n",
    "First, make a list called groceries with the values \"banana\",\"orange\", and \"apple\".\n",
    "\n",
    "Define this two dictionaries:\n",
    "\n",
    "stock = {\n",
    "    \"banana\": 6,\n",
    "    \"apple\": 0,\n",
    "    \"orange\": 32,\n",
    "    \"pear\": 15\n",
    "}\n",
    "\n",
    "prices = {\n",
    "    \"banana\": 4,\n",
    "    \"apple\": 2,\n",
    "    \"orange\": 1.5,\n",
    "    \"pear\": 3\n",
    "}\n",
    "\n",
    "Define a function compute_bill that takes one argument food as input. \n",
    "In the function, create a variable total with an initial value of zero.\n",
    "For each item in the food list, add the price of that item to total. \n",
    "Finally, return the total. \n",
    "Ignore whether or not the item you're billing for is in stock.\n",
    "Note that your function should work for any food list.\n",
    "\n",
    "Make the following changes to your compute_bill function:\n",
    "\n",
    "While you loop through each item of food, only add the price of the item to total if the item's stock count is greater than zero.\n",
    "\n",
    "If the item is in stock and after you add the price to the total, subtract one from the item's stock count."
   ]
  },
  {
   "cell_type": "code",
   "execution_count": 3,
   "metadata": {
    "collapsed": false
   },
   "outputs": [
    {
     "name": "stdout",
     "output_type": "stream",
     "text": [
      "5.5\n"
     ]
    }
   ],
   "source": [
    "#Your Code here\n",
    "shopping_list = [\"banana\", \"orange\", \"apple\"]\n",
    "\n",
    "stock = {\n",
    "    \"banana\": 6,\n",
    "    \"apple\": 0,\n",
    "    \"orange\": 32,\n",
    "    \"pear\": 15\n",
    "}\n",
    "\n",
    "prices = {\n",
    "    \"banana\": 4,\n",
    "    \"apple\": 2,\n",
    "    \"orange\": 1.5,\n",
    "    \"pear\": 3\n",
    "}\n",
    "\n",
    "\n",
    "def compute_bill(food):\n",
    "    total=0\n",
    "    for x in food:\n",
    "        price= prices[x]\n",
    "        if stock[x]>0:\n",
    "           total=total +price\n",
    "           stock[x]=stock[x] -1\n",
    "    print (total)\n",
    "\n",
    "compute_bill(shopping_list)\n"
   ]
  }
 ],
 "metadata": {
  "kernelspec": {
   "display_name": "Python 3",
   "language": "python",
   "name": "python3"
  },
  "language_info": {
   "codemirror_mode": {
    "name": "ipython",
    "version": 3
   },
   "file_extension": ".py",
   "mimetype": "text/x-python",
   "name": "python",
   "nbconvert_exporter": "python",
   "pygments_lexer": "ipython3",
   "version": "3.6.0"
  }
 },
 "nbformat": 4,
 "nbformat_minor": 0
}
